{
  "cells": [
    {
      "cell_type": "markdown",
      "metadata": {
        "id": "view-in-github",
        "colab_type": "text"
      },
      "source": [
        "<a href=\"https://colab.research.google.com/github/Rohit-Munda/GenAIWorkshop/blob/main/Workshop-1/Day-3/RetrievalQA.ipynb\" target=\"_parent\"><img src=\"https://colab.research.google.com/assets/colab-badge.svg\" alt=\"Open In Colab\"/></a>"
      ]
    },
    {
      "cell_type": "markdown",
      "source": [
        "## ✅ Step1: Install & Load required python libraries"
      ],
      "metadata": {
        "id": "A6hJZGh_c4lE"
      }
    },
    {
      "cell_type": "code",
      "execution_count": null,
      "metadata": {
        "colab": {
          "base_uri": "https://localhost:8080/"
        },
        "id": "8SWSEIMkKNGL",
        "outputId": "9dbbc741-ba93-4e2a-f159-660673cda260"
      },
      "outputs": [
        {
          "name": "stdout",
          "output_type": "stream",
          "text": [
            "Collecting faiss-cpu\n",
            "  Downloading faiss_cpu-1.11.0-cp311-cp311-manylinux_2_28_x86_64.whl.metadata (4.8 kB)\n",
            "Requirement already satisfied: numpy<3.0,>=1.25.0 in /usr/local/lib/python3.11/dist-packages (from faiss-cpu) (2.0.2)\n",
            "Requirement already satisfied: packaging in /usr/local/lib/python3.11/dist-packages (from faiss-cpu) (24.2)\n",
            "Downloading faiss_cpu-1.11.0-cp311-cp311-manylinux_2_28_x86_64.whl (31.3 MB)\n",
            "\u001b[2K   \u001b[90m━━━━━━━━━━━━━━━━━━━━━━━━━━━━━━━━━━━━━━━━\u001b[0m \u001b[32m31.3/31.3 MB\u001b[0m \u001b[31m19.9 MB/s\u001b[0m eta \u001b[36m0:00:00\u001b[0m\n",
            "\u001b[?25hInstalling collected packages: faiss-cpu\n",
            "Successfully installed faiss-cpu-1.11.0\n"
          ]
        }
      ],
      "source": [
        "!pip install faiss-cpu"
      ]
    },
    {
      "cell_type": "code",
      "execution_count": null,
      "metadata": {
        "id": "TqIHcTkULZ_v"
      },
      "outputs": [],
      "source": [
        "import faiss\n",
        "import numpy as np\n",
        "from transformers import pipeline\n",
        "from sentence_transformers import SentenceTransformer"
      ]
    },
    {
      "cell_type": "markdown",
      "metadata": {
        "id": "WDtEPkEVL9SQ"
      },
      "source": [
        "## 📚 Step 2. Create a Small Knowledge Base (Documents)"
      ]
    },
    {
      "cell_type": "code",
      "execution_count": null,
      "metadata": {
        "id": "5iwVEyptLv7Q"
      },
      "outputs": [],
      "source": [
        "documents = [\n",
        "    \"The Earth revolves around the Sun in about 365 days.\",\n",
        "    \"Python is a popular programming language used for web development, data science, and AI.\",\n",
        "    \"The capital of France is Paris, known for the Eiffel Tower.\",\n",
        "    \"Photosynthesis is the process by which green plants make food using sunlight.\",\n",
        "    \"Basketball is a sport played by two teams of five players on a rectangular court.\",\n",
        "    \"Large Language Models like ChatGPT are trained on vast amounts of text data.\"\n",
        "]"
      ]
    },
    {
      "cell_type": "markdown",
      "metadata": {
        "id": "StxJLM1yMLZu"
      },
      "source": [
        "## 🔡 Step 3. Convert Documents to Embeddings"
      ]
    },
    {
      "cell_type": "code",
      "execution_count": null,
      "metadata": {
        "id": "-JOWTdBfL3-q"
      },
      "outputs": [],
      "source": [
        "embedder = SentenceTransformer('all-MiniLM-L6-v2')\n",
        "doc_embeddings = embedder.encode(documents)"
      ]
    },
    {
      "cell_type": "code",
      "execution_count": null,
      "metadata": {
        "colab": {
          "base_uri": "https://localhost:8080/"
        },
        "id": "QgoGZpV5NCFF",
        "outputId": "a749f5a4-a60c-4387-93dc-903cf4c8dd2d"
      },
      "outputs": [
        {
          "data": {
            "text/plain": [
              "array([[ 0.02731097,  0.0774596 ,  0.04154115, ..., -0.00238924,\n",
              "         0.00900925, -0.0208409 ],\n",
              "       [-0.04744018, -0.01688633, -0.02255926, ...,  0.12869716,\n",
              "         0.1589973 ,  0.0186499 ],\n",
              "       [ 0.0672824 ,  0.06106832,  0.02706188, ...,  0.06351971,\n",
              "         0.11277966,  0.04227098],\n",
              "       [-0.05481903,  0.06031541, -0.06253127, ...,  0.05017699,\n",
              "         0.11442049,  0.03344167],\n",
              "       [ 0.06275784,  0.01622444,  0.03321232, ...,  0.07344805,\n",
              "         0.06807995, -0.00025563],\n",
              "       [-0.01688357, -0.08255044,  0.06435584, ...,  0.05519102,\n",
              "         0.03942716, -0.04331229]], dtype=float32)"
            ]
          },
          "execution_count": 6,
          "metadata": {},
          "output_type": "execute_result"
        }
      ],
      "source": [
        "doc_embeddings"
      ]
    },
    {
      "cell_type": "markdown",
      "metadata": {
        "id": "WpjuW54hM_P7"
      },
      "source": [
        "## 🧠 Step 4. Create FAISS Index for Retrieval"
      ]
    },
    {
      "cell_type": "code",
      "execution_count": null,
      "metadata": {
        "id": "8wCX8tqsM9tj"
      },
      "outputs": [],
      "source": [
        "embedding_dim = doc_embeddings.shape[1]\n",
        "index = faiss.IndexFlatL2(embedding_dim)\n",
        "index.add(np.array(doc_embeddings))"
      ]
    },
    {
      "cell_type": "markdown",
      "metadata": {
        "id": "evKOA_kwNQmP"
      },
      "source": [
        "## 🔍 Step 5. Define a Retrieval + QA Function (Mini-RAG)"
      ]
    },
    {
      "cell_type": "code",
      "execution_count": null,
      "metadata": {
        "id": "rcRFAxOZNMRl"
      },
      "outputs": [],
      "source": [
        "# Use a model for QA\n",
        "qa_pipeline = pipeline(\"question-answering\", model=\"distilbert-base-uncased-distilled-squad\")"
      ]
    },
    {
      "cell_type": "code",
      "execution_count": null,
      "metadata": {
        "id": "PdJHRLLaNdTa"
      },
      "outputs": [],
      "source": [
        "def rag_answer(question, top_k=2):\n",
        "    # Embed the question\n",
        "    question_embedding = embedder.encode([question])\n",
        "\n",
        "    # Retrieve top_k similar documents\n",
        "    distances, indices = index.search(np.array(question_embedding), top_k)\n",
        "    retrieved_docs = [documents[i] for i in indices[0]]\n",
        "\n",
        "    # Combine docs into a single context string\n",
        "    context = \" \".join(retrieved_docs)\n",
        "\n",
        "    # Run QA\n",
        "    result = qa_pipeline(question=question, context=context)\n",
        "\n",
        "    # Output\n",
        "    print(f\"📌 Question: {question}\")\n",
        "    print(f\"\\n📚 Retrieved Context:\\n{context}\")\n",
        "    print(f\"\\n🧠 Answer: {result['answer']}\")"
      ]
    },
    {
      "cell_type": "code",
      "execution_count": null,
      "metadata": {
        "colab": {
          "base_uri": "https://localhost:8080/"
        },
        "id": "niWST0fONpNG",
        "outputId": "4a74d67f-767f-4227-ca3e-6c7c6645e26a"
      },
      "outputs": [
        {
          "name": "stdout",
          "output_type": "stream",
          "text": [
            "📌 Question: What is photosynthesis?\n",
            "\n",
            "📚 Retrieved Context:\n",
            "Photosynthesis is the process by which green plants make food using sunlight. The Earth revolves around the Sun in about 365 days.\n",
            "\n",
            "🧠 Answer: the process by which green plants make food using sunlight\n"
          ]
        }
      ],
      "source": [
        "rag_answer(\"What is photosynthesis?\")"
      ]
    },
    {
      "cell_type": "code",
      "execution_count": null,
      "metadata": {
        "colab": {
          "base_uri": "https://localhost:8080/"
        },
        "id": "OAlMUXq5N5_H",
        "outputId": "d8d1145f-f259-44fc-90ca-dc4391405148"
      },
      "outputs": [
        {
          "name": "stdout",
          "output_type": "stream",
          "text": [
            "📌 Question: Where is Eiffel Tower located?\n",
            "\n",
            "📚 Retrieved Context:\n",
            "The capital of France is Paris, known for the Eiffel Tower. The Earth revolves around the Sun in about 365 days.\n",
            "\n",
            "🧠 Answer: Paris\n"
          ]
        }
      ],
      "source": [
        "rag_answer(\"Where is Eiffel Tower located?\")"
      ]
    },
    {
      "cell_type": "code",
      "execution_count": null,
      "metadata": {
        "colab": {
          "base_uri": "https://localhost:8080/"
        },
        "id": "8vqE-ujFOClG",
        "outputId": "60aa9dfe-fb76-4e72-b3b6-1b79e0ef61db"
      },
      "outputs": [
        {
          "name": "stdout",
          "output_type": "stream",
          "text": [
            "📌 Question: What is Python used for?\n",
            "\n",
            "📚 Retrieved Context:\n",
            "Python is a popular programming language used for web development, data science, and AI. Large Language Models like ChatGPT are trained on vast amounts of text data.\n",
            "\n",
            "🧠 Answer: web development, data science, and AI\n"
          ]
        }
      ],
      "source": [
        "rag_answer(\"What is Python used for?\")"
      ]
    },
    {
      "cell_type": "markdown",
      "metadata": {
        "id": "woxeMwWnOLby"
      },
      "source": [
        "# ✅ What We Did: A Simple RAG Pipeline\n",
        "\n",
        "- Embedded documents into vectors\n",
        "- Used FAISS to retrieve relevant documents based on question\n",
        "- Passed retrieved text + question into a question-answering model\n",
        "- Got grounded answers instead of hallucinations!"
      ]
    }
  ],
  "metadata": {
    "colab": {
      "provenance": [],
      "authorship_tag": "ABX9TyPOvWDZuJ9/Pxnps2gYdoGq",
      "include_colab_link": true
    },
    "kernelspec": {
      "display_name": "Python 3",
      "name": "python3"
    },
    "language_info": {
      "name": "python"
    }
  },
  "nbformat": 4,
  "nbformat_minor": 0
}